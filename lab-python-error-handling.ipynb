{
 "cells": [
  {
   "cell_type": "markdown",
   "id": "25d7736c-ba17-4aff-b6bb-66eba20fbf4e",
   "metadata": {},
   "source": [
    "# Lab | Error Handling"
   ]
  },
  {
   "cell_type": "markdown",
   "id": "bc99b386-7508-47a0-bcdb-d969deaf6c8b",
   "metadata": {},
   "source": [
    "## Exercise: Error Handling for Managing Customer Orders\n",
    "\n",
    "The implementation of your code for managing customer orders assumes that the user will always enter a valid input. \n",
    "\n",
    "For example, we could modify the `initialize_inventory` function to include error handling.\n",
    "   - If the user enters an invalid quantity (e.g., a negative value or a non-numeric value), display an error message and ask them to re-enter the quantity for that product.\n",
    "   - Use a try-except block to handle the error and continue prompting the user until a valid quantity is entered.\n",
    "\n",
    "```python\n",
    "# Step 1: Define the function for initializing the inventory with error handling\n",
    "def initialize_inventory(products):\n",
    "    inventory = {}\n",
    "    for product in products:\n",
    "        valid_quantity = False\n",
    "        while not valid_quantity:\n",
    "            try:\n",
    "                quantity = int(input(f\"Enter the quantity of {product}s available: \"))\n",
    "                if quantity < 0:\n",
    "                    raise ValueError(\"Invalid quantity! Please enter a non-negative value.\")\n",
    "                valid_quantity = True\n",
    "            except ValueError as error:\n",
    "                print(f\"Error: {error}\")\n",
    "        inventory[product] = quantity\n",
    "    return inventory\n",
    "\n",
    "# Or, in another way:\n",
    "\n",
    "def initialize_inventory(products):\n",
    "    inventory = {}\n",
    "    for product in products:\n",
    "        valid_input = False\n",
    "        while not valid_input:\n",
    "            try:\n",
    "                quantity = int(input(f\"Enter the quantity of {product}s available: \"))\n",
    "                if quantity >= 0:\n",
    "                    inventory[product] = quantity\n",
    "                    valid_input = True\n",
    "                else:\n",
    "                    print(\"Quantity cannot be negative. Please enter a valid quantity.\")\n",
    "            except ValueError:\n",
    "                print(\"Invalid input. Please enter a valid quantity.\")\n",
    "    return inventory\n",
    "```\n",
    "\n",
    "Let's enhance your code by implementing error handling to handle invalid inputs.\n",
    "\n",
    "Follow the steps below to complete the exercise:\n",
    "\n",
    "2. Modify the `calculate_total_price` function to include error handling.\n",
    "   - If the user enters an invalid price (e.g., a negative value or a non-numeric value), display an error message and ask them to re-enter the price for that product.\n",
    "   - Use a try-except block to handle the error and continue prompting the user until a valid price is entered.\n",
    "\n",
    "3. Modify the `get_customer_orders` function to include error handling.\n",
    "   - If the user enters an invalid number of orders (e.g., a negative value or a non-numeric value), display an error message and ask them to re-enter the number of orders.\n",
    "   - If the user enters an invalid product name (e.g., a product name that is not in the inventory), or that doesn't have stock available, display an error message and ask them to re-enter the product name. *Hint: you will need to pass inventory as a parameter*\n",
    "   - Use a try-except block to handle the error and continue prompting the user until a valid product name is entered.\n",
    "\n",
    "4. Test your code by running the program and deliberately entering invalid quantities and product names. Make sure the error handling mechanism works as expected.\n"
   ]
  },
  {
   "cell_type": "code",
   "execution_count": 21,
   "id": "883a64f2-b67c-4973-a9cd-8902848d692d",
   "metadata": {},
   "outputs": [
    {
     "name": "stdin",
     "output_type": "stream",
     "text": [
      "Enter quantity for t-shirt:  0\n",
      "Enter quantity for mug:  50\n",
      "Enter quantity for hat:  45\n",
      "Enter quantity for book:  10\n",
      "Enter quantity for keychain:  18\n",
      "Enter number of orders:  3\n",
      "Enter product name:  t-shirt\n"
     ]
    },
    {
     "name": "stdout",
     "output_type": "stream",
     "text": [
      "Invalid product name or product out of stock. Please enter a valid product name.\n"
     ]
    },
    {
     "name": "stdin",
     "output_type": "stream",
     "text": [
      "Enter product name:  mug\n",
      "Enter quantity for mug:  five\n"
     ]
    },
    {
     "name": "stdout",
     "output_type": "stream",
     "text": [
      "Invalid quantity: invalid literal for int() with base 10: 'five'. Please enter a non-negative integer.\n"
     ]
    },
    {
     "name": "stdin",
     "output_type": "stream",
     "text": [
      "Enter quantity for mug:  5\n",
      "Enter product name:  hat\n",
      "Enter quantity for hat:  50\n"
     ]
    },
    {
     "name": "stdout",
     "output_type": "stream",
     "text": [
      "Not enough stock available.\n"
     ]
    },
    {
     "name": "stdin",
     "output_type": "stream",
     "text": [
      "Enter quantity for hat:  35\n",
      "Enter product name:  keychain\n",
      "Enter quantity for keychain:  2\n"
     ]
    },
    {
     "name": "stdout",
     "output_type": "stream",
     "text": [
      "Order statistics:\n",
      "t-shirt: 0\n",
      "mug: 5\n",
      "hat: 35\n",
      "book: 0\n",
      "keychain: 2\n",
      "Updated inventory:\n",
      "t-shirt: 0\n",
      "mug: 40\n",
      "hat: -25\n",
      "book: 10\n",
      "keychain: 14\n"
     ]
    },
    {
     "name": "stdin",
     "output_type": "stream",
     "text": [
      "Enter price for mug:  12.5\n",
      "Enter price for hat:  eleven\n"
     ]
    },
    {
     "name": "stdout",
     "output_type": "stream",
     "text": [
      "Invalid price: could not convert string to float: 'eleven'. Please enter a non-negative number.\n"
     ]
    },
    {
     "name": "stdin",
     "output_type": "stream",
     "text": [
      "Enter price for hat:  11\n",
      "Enter price for keychain:  13\n"
     ]
    },
    {
     "name": "stdout",
     "output_type": "stream",
     "text": [
      "Total price:  473.5\n"
     ]
    }
   ],
   "source": [
    "products = [\"t-shirt\", \"mug\", \"hat\", \"book\", \"keychain\"]  # Define the list of products\n",
    "\n",
    "def initialize_inventory(products):\n",
    "    inventory = {}\n",
    "    for product in products:\n",
    "        while True:\n",
    "            try:\n",
    "                quantity = input(f\"Enter quantity for {product}: \")\n",
    "                quantity = int(quantity)\n",
    "                if quantity < 0:\n",
    "                    raise ValueError(\"Quantity cannot be negative.\")\n",
    "                inventory[product] = quantity\n",
    "                break\n",
    "            except ValueError as e:\n",
    "                print(f\"Invalid quantity: {e}. Please enter a non-negative integer.\")\n",
    "    return inventory\n",
    "\n",
    "def calculate_total_price(customer_orders):\n",
    "    total_price = 0\n",
    "    for product, quantity in customer_orders.items():\n",
    "        while True:\n",
    "            try:\n",
    "                price = input(f\"Enter price for {product}: \")\n",
    "                price = float(price)\n",
    "                if price < 0:\n",
    "                    raise ValueError(\"Price cannot be negative.\")\n",
    "                total_price += price * quantity\n",
    "                break\n",
    "            except ValueError as e:\n",
    "                print(f\"Invalid price: {e}. Please enter a non-negative number.\")\n",
    "    return total_price\n",
    "\n",
    "def get_customer_orders(inventory):\n",
    "    customer_orders = {}\n",
    "    while True:\n",
    "        try:\n",
    "            num_orders = input(\"Enter number of orders: \")\n",
    "            num_orders = int(num_orders)\n",
    "            if num_orders < 0:\n",
    "                raise ValueError(\"Number of orders cannot be negative.\")\n",
    "            break\n",
    "        except ValueError as e:\n",
    "            print(f\"Invalid number of orders: {e}. Please enter a non-negative integer.\")\n",
    "    \n",
    "    for _ in range(num_orders):\n",
    "        while True:\n",
    "            product = input(\"Enter product name: \").strip()\n",
    "            if product not in inventory or inventory[product] <= 0:\n",
    "                print(\"Invalid product name or product out of stock. Please enter a valid product name.\")\n",
    "            else:\n",
    "                break\n",
    "        \n",
    "        while True:\n",
    "            try:\n",
    "                quantity = input(f\"Enter quantity for {product}: \")\n",
    "                quantity = int(quantity)\n",
    "                if quantity < 0:\n",
    "                    raise ValueError(\"Quantity cannot be negative.\")\n",
    "                if quantity > inventory[product]:\n",
    "                    print(\"Not enough stock available.\")\n",
    "                    continue\n",
    "                customer_orders[product] = customer_orders.get(product, 0) + quantity\n",
    "                inventory[product] -= quantity\n",
    "                break\n",
    "            except ValueError as e:\n",
    "                print(f\"Invalid quantity: {e}. Please enter a non-negative integer.\")\n",
    "    \n",
    "    return customer_orders\n",
    "\n",
    "def update_inventory(customer_orders, inventory):\n",
    "    for product, amount in customer_orders.items():\n",
    "        if product in inventory:\n",
    "            inventory[product] -= amount\n",
    "    return inventory\n",
    "\n",
    "def calculate_order_statistics(customer_orders, products):\n",
    "    statistics = {product: 0 for product in products}\n",
    "    for product, amount in customer_orders.items():\n",
    "        if product in statistics:\n",
    "            statistics[product] += amount\n",
    "    return statistics\n",
    "\n",
    "def print_order_statistics(order_statistics):\n",
    "    print(\"Order statistics:\")\n",
    "    for product, quantity in order_statistics.items():\n",
    "        print(f\"{product}: {quantity}\")\n",
    "\n",
    "def print_updated_inventory(inventory):\n",
    "    print(\"Updated inventory:\")\n",
    "    for product, quantity in inventory.items():\n",
    "        print(f\"{product}: {quantity}\")\n",
    "\n",
    "# Main sequence of operations\n",
    "inventory = initialize_inventory(products)  # Initializes the inventory\n",
    "customer_orders = get_customer_orders(inventory)  # Collects customer orders\n",
    "inventory = update_inventory(customer_orders, inventory)  # Updates the inventory based on customer orders\n",
    "order_statistics = calculate_order_statistics(customer_orders, products)  # Calculates order statistics\n",
    "print_order_statistics(order_statistics)  # Prints order statistics\n",
    "print_updated_inventory(inventory)  # Prints the updated inventory\n",
    "total_price = calculate_total_price(customer_orders)  # Calculates the total price of the orders\n",
    "print(\"Total price: \", total_price)  # Prints the total price"
   ]
  },
  {
   "cell_type": "code",
   "execution_count": null,
   "id": "7fdacd58-4b96-46c8-9a51-6fec16d2785f",
   "metadata": {},
   "outputs": [],
   "source": []
  }
 ],
 "metadata": {
  "kernelspec": {
   "display_name": "Python 3 (ipykernel)",
   "language": "python",
   "name": "python3"
  },
  "language_info": {
   "codemirror_mode": {
    "name": "ipython",
    "version": 3
   },
   "file_extension": ".py",
   "mimetype": "text/x-python",
   "name": "python",
   "nbconvert_exporter": "python",
   "pygments_lexer": "ipython3",
   "version": "3.12.4"
  }
 },
 "nbformat": 4,
 "nbformat_minor": 5
}
